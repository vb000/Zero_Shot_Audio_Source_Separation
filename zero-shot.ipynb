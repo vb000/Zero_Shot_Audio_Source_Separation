{
 "cells": [
  {
   "cell_type": "code",
   "execution_count": null,
   "metadata": {},
   "outputs": [],
   "source": [
    "import sys\n",
    "import IPython.display as ipd\n",
    "\n",
    "import torch\n",
    "import torch.nn as nn\n",
    "import torch.nn.functional as F\n",
    "import torchaudio\n",
    "import librosa\n",
    "\n",
    "from models.htsat import HTSAT_Swin_Transformer\n",
    "import htsat_config"
   ]
  },
  {
   "cell_type": "code",
   "execution_count": null,
   "metadata": {},
   "outputs": [],
   "source": [
    "class HTSAT(nn.Module):\n",
    "    def __init__(self):\n",
    "        super(HTSAT, self).__init__()\n",
    "        self.freq_ratio = htsat_config.htsat_spec_size // htsat_config.mel_bins\n",
    "        self.target_T = int(htsat_config.hop_size * htsat_config.htsat_spec_size * self.freq_ratio) - 1\n",
    "        self.sed_model = HTSAT_Swin_Transformer(\n",
    "            spec_size=htsat_config.htsat_spec_size,\n",
    "            patch_size=htsat_config.htsat_patch_size,\n",
    "            in_chans=1,\n",
    "            num_classes=htsat_config.classes_num,\n",
    "            window_size=htsat_config.htsat_window_size,\n",
    "            config=htsat_config,\n",
    "            depths=htsat_config.htsat_depth,\n",
    "            embed_dim=htsat_config.htsat_dim,\n",
    "            patch_stride=htsat_config.htsat_stride,\n",
    "            num_heads=htsat_config.htsat_num_head\n",
    "        )\n",
    "    \n",
    "    def forward(self, x, infer_mode=False):\n",
    "        return self.sed_model(x, infer_mode)\n",
    "\n",
    "    @torch.no_grad()\n",
    "    def embed_sound(self, f):\n",
    "        audio, sr = librosa.load(f, sr=None)\n",
    "        audio, _ = librosa.effects.trim(audio, top_db=25)\n",
    "        audio = torch.from_numpy(audio).float().unsqueeze(0)\n",
    "        audio = audio[:, :self.target_T]\n",
    "        return self.forward(audio)['latent_output']\n",
    "\n",
    "htsat = HTSAT()\n",
    "htsat.load_state_dict(torch.load('htsat_audioset_2048d.ckpt', map_location=\"cpu\")[\"state_dict\"])\n",
    "htsat.eval()\n",
    "print('')"
   ]
  },
  {
   "cell_type": "code",
   "execution_count": null,
   "metadata": {},
   "outputs": [],
   "source": [
    "y_ag0 = htsat.embed_sound('../semaudio-single-ch/data/FSDSoundScapes/FSDKaggle2018/val/Acoustic_guitar/15ba13c4.wav')\n",
    "y_ag1 = htsat.embed_sound('../semaudio-single-ch/data/FSDSoundScapes/FSDKaggle2018/val/Acoustic_guitar/367ad7b1.wav')\n",
    "y_apl0 = htsat.embed_sound('../semaudio-single-ch/data/FSDSoundScapes/FSDKaggle2018/val/Applause/170eeda2.wav')\n",
    "y_apl1 = htsat.embed_sound('../semaudio-single-ch/data/FSDSoundScapes/FSDKaggle2018/val/Applause/2ee73a9d.wav')\n",
    "y_brp0 = htsat.embed_sound('../semaudio-single-ch/data/FSDSoundScapes/FSDKaggle2018/val/Burping_or_eructation/27d679b4.wav')\n",
    "y_brp1 = htsat.embed_sound('../semaudio-single-ch/data/FSDSoundScapes/FSDKaggle2018/val/Burping_or_eructation/7edba859.wav')\n",
    "print(y_ag0.shape)"
   ]
  },
  {
   "cell_type": "code",
   "execution_count": null,
   "metadata": {},
   "outputs": [],
   "source": [
    "print(F.cosine_similarity(y_ag0, y_ag1))\n",
    "print(F.cosine_similarity(y_ag0, y_apl0))\n",
    "print(F.cosine_similarity(y_ag1, y_brp1))\n",
    "print(F.cosine_similarity(y_apl0, y_apl1))\n",
    "print(F.cosine_similarity(y_brp0, y_brp1))"
   ]
  }
 ],
 "metadata": {
  "kernelspec": {
   "display_name": "Python 3.7.15 ('hts')",
   "language": "python",
   "name": "python3"
  },
  "language_info": {
   "codemirror_mode": {
    "name": "ipython",
    "version": 3
   },
   "file_extension": ".py",
   "mimetype": "text/x-python",
   "name": "python",
   "nbconvert_exporter": "python",
   "pygments_lexer": "ipython3",
   "version": "3.7.15"
  },
  "orig_nbformat": 4,
  "vscode": {
   "interpreter": {
    "hash": "709b1ae938e36806051b6c67e958ca06edf71508f1254cdd42eba588c3438764"
   }
  }
 },
 "nbformat": 4,
 "nbformat_minor": 2
}
