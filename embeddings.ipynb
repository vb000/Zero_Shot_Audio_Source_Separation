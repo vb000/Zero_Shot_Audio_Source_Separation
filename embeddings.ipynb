{
 "cells": [
  {
   "cell_type": "code",
   "execution_count": null,
   "metadata": {},
   "outputs": [],
   "source": [
    "import os\n",
    "\n",
    "import matplotlib.pyplot as plt\n",
    "import torch"
   ]
  },
  {
   "cell_type": "code",
   "execution_count": null,
   "metadata": {},
   "outputs": [],
   "source": [
    "# Read (N + 1, embed_dim) tensors from .pt files\n",
    "# in embed_dir and return a dictionary mapping\n",
    "# class labels to (N + 1, embed_dim) tensors. Remove\n",
    "# the first row of each tensor to get a (N, embed_dim)\n",
    "# tensor of embeddings for each class.\n",
    "def read_embed_db(embed_dir):\n",
    "    embed_db = {}\n",
    "    for label in os.listdir(embed_dir):\n",
    "        embed_db[label.split('.')[0]] = torch.load(os.path.join(embed_dir, label))[1:]\n",
    "    return embed_db\n",
    "\n",
    "def plot_embeddings(input_map, labels=None, title=None):\n",
    "    embed_db = {}\n",
    "    for label in labels:\n",
    "        embed_db[label] = input_map[label]\n",
    "\n",
    "    # Compute 2d projection of embeddings using PCA\n",
    "    # and plot the projection.\n",
    "    all_embeds = torch.cat([embed_db[label] for label in embed_db])\n",
    "    U, S, V = torch.pca_lowrank(all_embeds, niter=10)\n",
    "    proj = torch.matmul(all_embeds, V[:, :2])\n",
    "\n",
    "    # Create a dictionary mapping class labels to\n",
    "    # a list of 2d coordinates for each embedding\n",
    "    # in the class.\n",
    "    proj_db = {}\n",
    "    curr = 0\n",
    "    for label in embed_db:\n",
    "        proj_db[label] = torch.unbind(proj[curr:curr + len(embed_db[label])])\n",
    "        curr += len(embed_db[label])\n",
    "\n",
    "    # Plot the 2d projection\n",
    "    plt.figure(figsize=(10, 10))\n",
    "    for label in proj_db:\n",
    "        x, y = zip(*proj_db[label])\n",
    "        plt.scatter(x, y, label=label)\n",
    "    plt.legend()\n",
    "\n",
    "embed_dir = './tmp'\n",
    "embed_db = read_embed_db(embed_dir)\n",
    "plot_embeddings(embed_db, labels=['Bark', 'Cello', 'Flute', 'Cowbell', 'Gunshot_or_gunfire'])"
   ]
  }
 ],
 "metadata": {
  "kernelspec": {
   "display_name": "Python 3.7.15 ('hts')",
   "language": "python",
   "name": "python3"
  },
  "language_info": {
   "codemirror_mode": {
    "name": "ipython",
    "version": 3
   },
   "file_extension": ".py",
   "mimetype": "text/x-python",
   "name": "python",
   "nbconvert_exporter": "python",
   "pygments_lexer": "ipython3",
   "version": "3.7.15"
  },
  "orig_nbformat": 4,
  "vscode": {
   "interpreter": {
    "hash": "709b1ae938e36806051b6c67e958ca06edf71508f1254cdd42eba588c3438764"
   }
  }
 },
 "nbformat": 4,
 "nbformat_minor": 2
}
